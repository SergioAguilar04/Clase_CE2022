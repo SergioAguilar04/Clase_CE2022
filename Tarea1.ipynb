{
  "nbformat": 4,
  "nbformat_minor": 0,
  "metadata": {
    "colab": {
      "name": "Tarea1.ipynb",
      "provenance": []
    },
    "kernelspec": {
      "name": "python3",
      "display_name": "Python 3"
    },
    "language_info": {
      "name": "python"
    }
  },
  "cells": [
    {
      "cell_type": "code",
      "execution_count": 15,
      "metadata": {
        "colab": {
          "base_uri": "https://localhost:8080/",
          "height": 269
        },
        "id": "2iC4jQ0nSt7W",
        "outputId": "17932c56-db24-4597-c077-bba1cbefa55c"
      },
      "outputs": [
        {
          "output_type": "execute_result",
          "data": {
            "text/plain": [
              "  Unnamed: 0 Unnamed: 1 Unnamed: 2 Unnamed: 3 Unnamed: 4 Unnamed: 5 Unnamed: 6\n",
              "0     Metodo         G1         G2         G3         G4         G5         G6\n",
              "1         M1        NaN       6.75      13.05      10.26       8.01       8.42\n",
              "2         M2       5.54       3.53       11.2       7.21       3.24       6.45\n",
              "3         M3       7.67       4.15       9.79       8.27       6.75        5.5\n",
              "4         M4       7.89       1.97       8.97       6.12       4.22       7.84\n",
              "5         M5       9.27       4.39      13.44       9.13        9.2       7.13\n",
              "6       Mean      7.593      4.158      11.29      8.198       6.28      7.068"
            ],
            "text/html": [
              "\n",
              "  <div id=\"df-e60d5f93-fc9d-4cd8-8282-965bad43bd5a\">\n",
              "    <div class=\"colab-df-container\">\n",
              "      <div>\n",
              "<style scoped>\n",
              "    .dataframe tbody tr th:only-of-type {\n",
              "        vertical-align: middle;\n",
              "    }\n",
              "\n",
              "    .dataframe tbody tr th {\n",
              "        vertical-align: top;\n",
              "    }\n",
              "\n",
              "    .dataframe thead th {\n",
              "        text-align: right;\n",
              "    }\n",
              "</style>\n",
              "<table border=\"1\" class=\"dataframe\">\n",
              "  <thead>\n",
              "    <tr style=\"text-align: right;\">\n",
              "      <th></th>\n",
              "      <th>Unnamed: 0</th>\n",
              "      <th>Unnamed: 1</th>\n",
              "      <th>Unnamed: 2</th>\n",
              "      <th>Unnamed: 3</th>\n",
              "      <th>Unnamed: 4</th>\n",
              "      <th>Unnamed: 5</th>\n",
              "      <th>Unnamed: 6</th>\n",
              "    </tr>\n",
              "  </thead>\n",
              "  <tbody>\n",
              "    <tr>\n",
              "      <th>0</th>\n",
              "      <td>Metodo</td>\n",
              "      <td>G1</td>\n",
              "      <td>G2</td>\n",
              "      <td>G3</td>\n",
              "      <td>G4</td>\n",
              "      <td>G5</td>\n",
              "      <td>G6</td>\n",
              "    </tr>\n",
              "    <tr>\n",
              "      <th>1</th>\n",
              "      <td>M1</td>\n",
              "      <td>NaN</td>\n",
              "      <td>6.75</td>\n",
              "      <td>13.05</td>\n",
              "      <td>10.26</td>\n",
              "      <td>8.01</td>\n",
              "      <td>8.42</td>\n",
              "    </tr>\n",
              "    <tr>\n",
              "      <th>2</th>\n",
              "      <td>M2</td>\n",
              "      <td>5.54</td>\n",
              "      <td>3.53</td>\n",
              "      <td>11.2</td>\n",
              "      <td>7.21</td>\n",
              "      <td>3.24</td>\n",
              "      <td>6.45</td>\n",
              "    </tr>\n",
              "    <tr>\n",
              "      <th>3</th>\n",
              "      <td>M3</td>\n",
              "      <td>7.67</td>\n",
              "      <td>4.15</td>\n",
              "      <td>9.79</td>\n",
              "      <td>8.27</td>\n",
              "      <td>6.75</td>\n",
              "      <td>5.5</td>\n",
              "    </tr>\n",
              "    <tr>\n",
              "      <th>4</th>\n",
              "      <td>M4</td>\n",
              "      <td>7.89</td>\n",
              "      <td>1.97</td>\n",
              "      <td>8.97</td>\n",
              "      <td>6.12</td>\n",
              "      <td>4.22</td>\n",
              "      <td>7.84</td>\n",
              "    </tr>\n",
              "    <tr>\n",
              "      <th>5</th>\n",
              "      <td>M5</td>\n",
              "      <td>9.27</td>\n",
              "      <td>4.39</td>\n",
              "      <td>13.44</td>\n",
              "      <td>9.13</td>\n",
              "      <td>9.2</td>\n",
              "      <td>7.13</td>\n",
              "    </tr>\n",
              "    <tr>\n",
              "      <th>6</th>\n",
              "      <td>Mean</td>\n",
              "      <td>7.593</td>\n",
              "      <td>4.158</td>\n",
              "      <td>11.29</td>\n",
              "      <td>8.198</td>\n",
              "      <td>6.28</td>\n",
              "      <td>7.068</td>\n",
              "    </tr>\n",
              "  </tbody>\n",
              "</table>\n",
              "</div>\n",
              "      <button class=\"colab-df-convert\" onclick=\"convertToInteractive('df-e60d5f93-fc9d-4cd8-8282-965bad43bd5a')\"\n",
              "              title=\"Convert this dataframe to an interactive table.\"\n",
              "              style=\"display:none;\">\n",
              "        \n",
              "  <svg xmlns=\"http://www.w3.org/2000/svg\" height=\"24px\"viewBox=\"0 0 24 24\"\n",
              "       width=\"24px\">\n",
              "    <path d=\"M0 0h24v24H0V0z\" fill=\"none\"/>\n",
              "    <path d=\"M18.56 5.44l.94 2.06.94-2.06 2.06-.94-2.06-.94-.94-2.06-.94 2.06-2.06.94zm-11 1L8.5 8.5l.94-2.06 2.06-.94-2.06-.94L8.5 2.5l-.94 2.06-2.06.94zm10 10l.94 2.06.94-2.06 2.06-.94-2.06-.94-.94-2.06-.94 2.06-2.06.94z\"/><path d=\"M17.41 7.96l-1.37-1.37c-.4-.4-.92-.59-1.43-.59-.52 0-1.04.2-1.43.59L10.3 9.45l-7.72 7.72c-.78.78-.78 2.05 0 2.83L4 21.41c.39.39.9.59 1.41.59.51 0 1.02-.2 1.41-.59l7.78-7.78 2.81-2.81c.8-.78.8-2.07 0-2.86zM5.41 20L4 18.59l7.72-7.72 1.47 1.35L5.41 20z\"/>\n",
              "  </svg>\n",
              "      </button>\n",
              "      \n",
              "  <style>\n",
              "    .colab-df-container {\n",
              "      display:flex;\n",
              "      flex-wrap:wrap;\n",
              "      gap: 12px;\n",
              "    }\n",
              "\n",
              "    .colab-df-convert {\n",
              "      background-color: #E8F0FE;\n",
              "      border: none;\n",
              "      border-radius: 50%;\n",
              "      cursor: pointer;\n",
              "      display: none;\n",
              "      fill: #1967D2;\n",
              "      height: 32px;\n",
              "      padding: 0 0 0 0;\n",
              "      width: 32px;\n",
              "    }\n",
              "\n",
              "    .colab-df-convert:hover {\n",
              "      background-color: #E2EBFA;\n",
              "      box-shadow: 0px 1px 2px rgba(60, 64, 67, 0.3), 0px 1px 3px 1px rgba(60, 64, 67, 0.15);\n",
              "      fill: #174EA6;\n",
              "    }\n",
              "\n",
              "    [theme=dark] .colab-df-convert {\n",
              "      background-color: #3B4455;\n",
              "      fill: #D2E3FC;\n",
              "    }\n",
              "\n",
              "    [theme=dark] .colab-df-convert:hover {\n",
              "      background-color: #434B5C;\n",
              "      box-shadow: 0px 1px 3px 1px rgba(0, 0, 0, 0.15);\n",
              "      filter: drop-shadow(0px 1px 2px rgba(0, 0, 0, 0.3));\n",
              "      fill: #FFFFFF;\n",
              "    }\n",
              "  </style>\n",
              "\n",
              "      <script>\n",
              "        const buttonEl =\n",
              "          document.querySelector('#df-e60d5f93-fc9d-4cd8-8282-965bad43bd5a button.colab-df-convert');\n",
              "        buttonEl.style.display =\n",
              "          google.colab.kernel.accessAllowed ? 'block' : 'none';\n",
              "\n",
              "        async function convertToInteractive(key) {\n",
              "          const element = document.querySelector('#df-e60d5f93-fc9d-4cd8-8282-965bad43bd5a');\n",
              "          const dataTable =\n",
              "            await google.colab.kernel.invokeFunction('convertToInteractive',\n",
              "                                                     [key], {});\n",
              "          if (!dataTable) return;\n",
              "\n",
              "          const docLinkHtml = 'Like what you see? Visit the ' +\n",
              "            '<a target=\"_blank\" href=https://colab.research.google.com/notebooks/data_table.ipynb>data table notebook</a>'\n",
              "            + ' to learn more about interactive tables.';\n",
              "          element.innerHTML = '';\n",
              "          dataTable['output_type'] = 'display_data';\n",
              "          await google.colab.output.renderOutput(dataTable, element);\n",
              "          const docLink = document.createElement('div');\n",
              "          docLink.innerHTML = docLinkHtml;\n",
              "          element.appendChild(docLink);\n",
              "        }\n",
              "      </script>\n",
              "    </div>\n",
              "  </div>\n",
              "  "
            ]
          },
          "metadata": {},
          "execution_count": 15
        }
      ],
      "source": [
        "#Punto 1\n",
        "\n",
        "import pandas as pd  \n",
        "url = \"https://docs.google.com/spreadsheets/d/e/2PACX-1vSf_-BcSpTaqLVVrIJdjNyR3keSgH4OFaMzyn_5xGFaB3srPPTt0Iz0W4FD0-46iA/pub?output=xlsx\"\n",
        "Tabla = pd.read_excel(url)\n",
        "Tabla.head(7)"
      ]
    },
    {
      "cell_type": "code",
      "source": [
        "#Punto 2\n",
        "\n",
        "from IPython.display import Image\n",
        "Image(\"https://i.pinimg.com/550x/a5/e9/48/a5e94838ef00cc4a891929f8104271f7.jpg\")"
      ],
      "metadata": {
        "colab": {
          "base_uri": "https://localhost:8080/",
          "height": 305
        },
        "id": "PvzqMkUydhGQ",
        "outputId": "f2169a49-8a5b-454d-c316-def88dd3997d"
      },
      "execution_count": 5,
      "outputs": [
        {
          "output_type": "execute_result",
          "data": {
            "text/plain": [
              "<IPython.core.display.Image object>"
            ],
            "image/jpeg": "[encoded data removed]"
          },
          "metadata": {},
          "execution_count": 5
        }
      ]
    },
    {
      "cell_type": "markdown",
      "source": [
        "#Punto 3\n",
        "\\begin{equation*}\n",
        "  \\left[\n",
        "    \\begin{matrix}\n",
        "      0 & 0 & 0 & 0\\\\\n",
        "      1 & 1 & 1 & 1\\\\\n",
        "      2 & 2 & 2 & 2\\\\\n",
        "      3 & 3 & 3 & 3\\\\\n",
        "    \\end{matrix}\n",
        "  \\right]\n",
        "\\end{equation*}"
      ],
      "metadata": {
        "id": "xo623lGDfIe6"
      }
    },
    {
      "cell_type": "markdown",
      "source": [
        "#Punto 4\n",
        "\n",
        "\\begin{array}{|c|c|} \\hline\n",
        "Color & Flor & Olor \\\\ \\hline\n",
        "Rojo & Rosa & Dulce \\\\\n",
        "Azul & Clavel & Amargo \\\\ \\hline\n",
        "\\end{array}"
      ],
      "metadata": {
        "id": "MkPtWo5tfWn3"
      }
    },
    {
      "cell_type": "markdown",
      "source": [
        "#Punto 5\n",
        "\n",
        "\\begin{align}\n",
        "        \\mathbf{a} \\cdot \\mathbf{b} = \\sum_{i=1}^n a_i b_i.\n",
        "    \\end{align}"
      ],
      "metadata": {
        "id": "m9MedlulguVB"
      }
    },
    {
      "cell_type": "code",
      "source": [
        "suma = 0\n",
        "for contador in range(4,10):\n",
        "  suma = suma + contador\n",
        "print(\" la suma es: \", suma)"
      ],
      "metadata": {
        "colab": {
          "base_uri": "https://localhost:8080/",
          "height": 0
        },
        "id": "ae6aVa8sgzZJ",
        "outputId": "9abc97ed-9506-4278-8235-68ab9cce68b9"
      },
      "execution_count": 13,
      "outputs": [
        {
          "output_type": "stream",
          "name": "stdout",
          "text": [
            " la suma es:  39\n"
          ]
        }
      ]
    }
  ]
}